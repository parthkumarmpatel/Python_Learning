{
 "cells": [
  {
   "cell_type": "markdown",
   "id": "303ed00a-ef6e-4e49-bdbc-1487531b5837",
   "metadata": {},
   "source": [
    "# Comparison Operators"
   ]
  },
  {
   "cell_type": "markdown",
   "id": "7f8a8241-5d87-4313-9bb3-4974cf2b420e",
   "metadata": {},
   "source": [
    "| Operator |    Name  | \n",
    "|----------|----------|\n",
    "| == | Equal |\n",
    "| != | Not Equal |\n",
    "| > | Greater Than|\n",
    "| < | Less Than |\n",
    "| >= | Greater than or Equal to|\n",
    "| <= | Less than or Equal to |"
   ]
  },
  {
   "cell_type": "code",
   "execution_count": 1,
   "id": "24883df0-752b-431d-b724-0f30eda11b19",
   "metadata": {},
   "outputs": [
    {
     "data": {
      "text/plain": [
       "True"
      ]
     },
     "execution_count": 1,
     "metadata": {},
     "output_type": "execute_result"
    }
   ],
   "source": [
    "10 == 10"
   ]
  },
  {
   "cell_type": "code",
   "execution_count": 2,
   "id": "a273e256-652e-4e0f-9a33-ca4710e0284e",
   "metadata": {},
   "outputs": [
    {
     "data": {
      "text/plain": [
       "True"
      ]
     },
     "execution_count": 2,
     "metadata": {},
     "output_type": "execute_result"
    }
   ],
   "source": [
    "10 != 50"
   ]
  },
  {
   "cell_type": "code",
   "execution_count": 4,
   "id": "2d447443-f040-442c-a8ec-77ff1566c6cb",
   "metadata": {},
   "outputs": [
    {
     "data": {
      "text/plain": [
       "True"
      ]
     },
     "execution_count": 4,
     "metadata": {},
     "output_type": "execute_result"
    }
   ],
   "source": [
    "'Vannila' == 'Vannila'"
   ]
  },
  {
   "cell_type": "code",
   "execution_count": 5,
   "id": "19a2a4b8-296d-4297-acf5-d3992b90f3cd",
   "metadata": {},
   "outputs": [
    {
     "data": {
      "text/plain": [
       "False"
      ]
     },
     "execution_count": 5,
     "metadata": {},
     "output_type": "execute_result"
    }
   ],
   "source": [
    "'Vannila' == 'Choco'"
   ]
  },
  {
   "cell_type": "code",
   "execution_count": 6,
   "id": "47c3ee3e-7a7b-4e9c-9e7b-c8c7b1f06b4e",
   "metadata": {},
   "outputs": [
    {
     "data": {
      "text/plain": [
       "False"
      ]
     },
     "execution_count": 6,
     "metadata": {},
     "output_type": "execute_result"
    }
   ],
   "source": [
    "x = 'Vannila'\n",
    "y = 'Chocolate'\n",
    "\n",
    "x == y"
   ]
  },
  {
   "cell_type": "code",
   "execution_count": 7,
   "id": "dc0f0500-bb22-4573-96f8-9172c0473603",
   "metadata": {},
   "outputs": [
    {
     "data": {
      "text/plain": [
       "True"
      ]
     },
     "execution_count": 7,
     "metadata": {},
     "output_type": "execute_result"
    }
   ],
   "source": [
    "x != y"
   ]
  },
  {
   "cell_type": "code",
   "execution_count": 8,
   "id": "0e89f80a-22a6-46b6-b4f2-9a765218ced3",
   "metadata": {},
   "outputs": [
    {
     "data": {
      "text/plain": [
       "True"
      ]
     },
     "execution_count": 8,
     "metadata": {},
     "output_type": "execute_result"
    }
   ],
   "source": [
    "10 < 50"
   ]
  },
  {
   "cell_type": "code",
   "execution_count": 9,
   "id": "f5bd881f-678b-4612-8ee9-4329d799a2bf",
   "metadata": {},
   "outputs": [
    {
     "data": {
      "text/plain": [
       "True"
      ]
     },
     "execution_count": 9,
     "metadata": {},
     "output_type": "execute_result"
    }
   ],
   "source": [
    "10 <=10"
   ]
  },
  {
   "cell_type": "code",
   "execution_count": null,
   "id": "ae2526b7-670c-46df-a5b6-fd3986126b1a",
   "metadata": {},
   "outputs": [],
   "source": []
  },
  {
   "cell_type": "code",
   "execution_count": null,
   "id": "e79d68fa-b23a-4e4c-bc0c-41cab9f7dd4d",
   "metadata": {},
   "outputs": [],
   "source": []
  },
  {
   "cell_type": "markdown",
   "id": "52a72883-0d22-459c-8e78-2556e12be967",
   "metadata": {},
   "source": [
    "# Logical Operator"
   ]
  },
  {
   "cell_type": "markdown",
   "id": "e4dc999b-b452-4b71-9191-333dff6f7b28",
   "metadata": {},
   "source": [
    "| Operator | Description |\n",
    "|----------|-------------|\n",
    "| and | Returns True if both statements are true |\n",
    "| or | Returns True if at least one of the statements is true |\n",
    "| not | Reverses the result; returns False if the result is true |"
   ]
  },
  {
   "cell_type": "code",
   "execution_count": 16,
   "id": "2bdfeeda-522e-46ac-9fd8-783bb740e887",
   "metadata": {},
   "outputs": [
    {
     "data": {
      "text/plain": [
       "False"
      ]
     },
     "execution_count": 16,
     "metadata": {},
     "output_type": "execute_result"
    }
   ],
   "source": [
    "(10 > 50) and (50 > 10)"
   ]
  },
  {
   "cell_type": "code",
   "execution_count": 17,
   "id": "475c720c-5ee0-4700-b51f-3590de30f2d3",
   "metadata": {},
   "outputs": [
    {
     "data": {
      "text/plain": [
       "True"
      ]
     },
     "execution_count": 17,
     "metadata": {},
     "output_type": "execute_result"
    }
   ],
   "source": [
    "(70 > 50) and (50 > 10)"
   ]
  },
  {
   "cell_type": "code",
   "execution_count": 19,
   "id": "779e3a93-1bab-4920-b7ae-85e39a64e237",
   "metadata": {},
   "outputs": [
    {
     "data": {
      "text/plain": [
       "True"
      ]
     },
     "execution_count": 19,
     "metadata": {},
     "output_type": "execute_result"
    }
   ],
   "source": [
    "(10 > 50) or (50 > 10)"
   ]
  },
  {
   "cell_type": "code",
   "execution_count": 21,
   "id": "68fb8614-ebc4-4b58-b6dd-9252e100c971",
   "metadata": {},
   "outputs": [
    {
     "data": {
      "text/plain": [
       "True"
      ]
     },
     "execution_count": 21,
     "metadata": {},
     "output_type": "execute_result"
    }
   ],
   "source": [
    "('Vannnila' > 'Chocolate') and (50 > 10)\n",
    "#V is greater than character C as it is come after it."
   ]
  },
  {
   "cell_type": "code",
   "execution_count": 22,
   "id": "1eca4323-e45a-4f47-8e65-ea79e0fdede6",
   "metadata": {},
   "outputs": [
    {
     "data": {
      "text/plain": [
       "False"
      ]
     },
     "execution_count": 22,
     "metadata": {},
     "output_type": "execute_result"
    }
   ],
   "source": [
    "not(50 > 10)"
   ]
  },
  {
   "cell_type": "code",
   "execution_count": null,
   "id": "1fdae2f5-4544-4f1d-99a2-36787a7d7510",
   "metadata": {},
   "outputs": [],
   "source": []
  },
  {
   "cell_type": "markdown",
   "id": "bbff66c1-1ceb-4b93-b97e-3c6fc02e491d",
   "metadata": {},
   "source": [
    "# Membership Operator"
   ]
  },
  {
   "cell_type": "markdown",
   "id": "13d1999f-770f-49c5-be1e-bc619fbc5d8e",
   "metadata": {},
   "source": [
    "| Operator | Description |\n",
    "|----------|-------------|\n",
    "| in | Returns True if a sequence with the specified value is present in the object |\n",
    "| not in | Returns True if a sequence with the specified value is not present in the obbject|"
   ]
  },
  {
   "cell_type": "code",
   "execution_count": 26,
   "id": "9a5eb3c7-4cfc-4573-aa54-6d7e45f9a5f7",
   "metadata": {},
   "outputs": [
    {
     "data": {
      "text/plain": [
       "True"
      ]
     },
     "execution_count": 26,
     "metadata": {},
     "output_type": "execute_result"
    }
   ],
   "source": [
    "ice_cream = 'I love chocolate ice cream'\n",
    "'love' in ice_cream"
   ]
  },
  {
   "cell_type": "code",
   "execution_count": 29,
   "id": "03192343-8543-4334-933a-ff229fc1afed",
   "metadata": {},
   "outputs": [
    {
     "data": {
      "text/plain": [
       "True"
      ]
     },
     "execution_count": 29,
     "metadata": {},
     "output_type": "execute_result"
    }
   ],
   "source": [
    "scoops  = [1,2,3,4,5]\n",
    "2 in scoops"
   ]
  },
  {
   "cell_type": "code",
   "execution_count": 30,
   "id": "06efab3e-6d12-4b69-8274-7d63e024f96e",
   "metadata": {},
   "outputs": [
    {
     "data": {
      "text/plain": [
       "True"
      ]
     },
     "execution_count": 30,
     "metadata": {},
     "output_type": "execute_result"
    }
   ],
   "source": [
    "6 not in scoops"
   ]
  },
  {
   "cell_type": "code",
   "execution_count": null,
   "id": "49081263-b3be-4d55-8a09-e40d134837cb",
   "metadata": {},
   "outputs": [],
   "source": []
  },
  {
   "cell_type": "code",
   "execution_count": null,
   "id": "bf2d98a6-8ee9-4261-8da6-a71f15bef530",
   "metadata": {},
   "outputs": [],
   "source": []
  },
  {
   "cell_type": "code",
   "execution_count": null,
   "id": "7ec2b4a1-757f-4fd0-b516-09ea79cf8c88",
   "metadata": {},
   "outputs": [],
   "source": []
  },
  {
   "cell_type": "code",
   "execution_count": null,
   "id": "13ac3f5d-11e9-4372-99b6-8f355b65d5ae",
   "metadata": {},
   "outputs": [],
   "source": []
  },
  {
   "cell_type": "code",
   "execution_count": null,
   "id": "bf21e717-44f4-4bdc-aa88-70189130b5e4",
   "metadata": {},
   "outputs": [],
   "source": []
  },
  {
   "cell_type": "code",
   "execution_count": null,
   "id": "03d10a10-aab5-4298-a936-d81f13b8616b",
   "metadata": {},
   "outputs": [],
   "source": []
  },
  {
   "cell_type": "code",
   "execution_count": null,
   "id": "0ed838da-58f4-4519-b027-a309712f8914",
   "metadata": {},
   "outputs": [],
   "source": []
  },
  {
   "cell_type": "code",
   "execution_count": null,
   "id": "c1c826bc-406e-451d-a186-3ea0bfd27def",
   "metadata": {},
   "outputs": [],
   "source": []
  }
 ],
 "metadata": {
  "kernelspec": {
   "display_name": "Python 3 (ipykernel)",
   "language": "python",
   "name": "python3"
  },
  "language_info": {
   "codemirror_mode": {
    "name": "ipython",
    "version": 3
   },
   "file_extension": ".py",
   "mimetype": "text/x-python",
   "name": "python",
   "nbconvert_exporter": "python",
   "pygments_lexer": "ipython3",
   "version": "3.12.7"
  }
 },
 "nbformat": 4,
 "nbformat_minor": 5
}
