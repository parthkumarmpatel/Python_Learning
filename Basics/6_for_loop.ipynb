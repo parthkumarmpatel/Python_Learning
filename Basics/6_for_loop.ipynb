{
 "cells": [
  {
   "cell_type": "markdown",
   "id": "2b69b755-d19e-48b6-b444-1f2104992b94",
   "metadata": {},
   "source": [
    "# For Loops"
   ]
  },
  {
   "cell_type": "code",
   "execution_count": 2,
   "id": "4a62983a-130f-4e99-8fe1-29ab23eb3a11",
   "metadata": {},
   "outputs": [],
   "source": [
    "integers = [1,2,3,4,5]"
   ]
  },
  {
   "cell_type": "code",
   "execution_count": 4,
   "id": "03089b79-baef-45ae-bf5e-fb7f0a971ffc",
   "metadata": {},
   "outputs": [
    {
     "name": "stdout",
     "output_type": "stream",
     "text": [
      "1\n",
      "2\n",
      "3\n",
      "4\n",
      "5\n"
     ]
    }
   ],
   "source": [
    "for i in integers:\n",
    "    print(i)"
   ]
  },
  {
   "cell_type": "code",
   "execution_count": 6,
   "id": "948c2a6c-be25-4351-8ad7-405b24f83970",
   "metadata": {},
   "outputs": [
    {
     "name": "stdout",
     "output_type": "stream",
     "text": [
      "Yep!\n",
      "Yep!\n",
      "Yep!\n",
      "Yep!\n",
      "Yep!\n"
     ]
    }
   ],
   "source": [
    "for i in integers:\n",
    "    print('Yep!')"
   ]
  },
  {
   "cell_type": "code",
   "execution_count": 7,
   "id": "2c5a872a-91f5-483e-aecb-15d9a2e3c258",
   "metadata": {},
   "outputs": [
    {
     "name": "stdout",
     "output_type": "stream",
     "text": [
      "2\n",
      "4\n",
      "6\n",
      "8\n",
      "10\n"
     ]
    }
   ],
   "source": [
    "for num in integers:\n",
    "    print(num + num)"
   ]
  },
  {
   "cell_type": "code",
   "execution_count": 8,
   "id": "d6aefba8-f174-4ae5-b576-d8981bc4a32a",
   "metadata": {},
   "outputs": [],
   "source": [
    "ice_cream_dict = {'name':'Parth patel','job' : 'MIS', 'skills':['Excel','SQL', 'Power BI']}"
   ]
  },
  {
   "cell_type": "code",
   "execution_count": 10,
   "id": "a20674cd-73ab-47c3-a5a0-9946baa51a5c",
   "metadata": {},
   "outputs": [
    {
     "data": {
      "text/plain": [
       "{'name': 'Parth patel', 'job': 'MIS', 'skills': ['Excel', 'SQL', 'Power BI']}"
      ]
     },
     "execution_count": 10,
     "metadata": {},
     "output_type": "execute_result"
    }
   ],
   "source": [
    "ice_cream_dict"
   ]
  },
  {
   "cell_type": "code",
   "execution_count": 11,
   "id": "4f3d1a16-9b25-413e-8ec3-20a72297ef5e",
   "metadata": {},
   "outputs": [
    {
     "name": "stdout",
     "output_type": "stream",
     "text": [
      "Parth patel\n",
      "MIS\n",
      "['Excel', 'SQL', 'Power BI']\n"
     ]
    }
   ],
   "source": [
    "for cream in ice_cream_dict.values():\n",
    "    print(cream)"
   ]
  },
  {
   "cell_type": "code",
   "execution_count": 12,
   "id": "27470327-4e66-4265-9a87-ea98ff198da6",
   "metadata": {},
   "outputs": [
    {
     "name": "stdout",
     "output_type": "stream",
     "text": [
      "name\n",
      "job\n",
      "skills\n"
     ]
    }
   ],
   "source": [
    "for cream in ice_cream_dict.keys():\n",
    "    print(cream)"
   ]
  },
  {
   "cell_type": "code",
   "execution_count": 13,
   "id": "743742e6-40e0-4cbd-8946-124e905abab8",
   "metadata": {},
   "outputs": [
    {
     "name": "stdout",
     "output_type": "stream",
     "text": [
      "('name', 'Parth patel')\n",
      "('job', 'MIS')\n",
      "('skills', ['Excel', 'SQL', 'Power BI'])\n"
     ]
    }
   ],
   "source": [
    "for cream in ice_cream_dict.items():\n",
    "    print(cream)"
   ]
  },
  {
   "cell_type": "code",
   "execution_count": 14,
   "id": "11065e03-c20a-4e03-b18c-aa7ba07b71d2",
   "metadata": {},
   "outputs": [
    {
     "name": "stdout",
     "output_type": "stream",
     "text": [
      "name  ->  Parth patel\n",
      "job  ->  MIS\n",
      "skills  ->  ['Excel', 'SQL', 'Power BI']\n"
     ]
    }
   ],
   "source": [
    "for key,value in ice_cream_dict.items():\n",
    "    print(key,' -> ',value)"
   ]
  },
  {
   "cell_type": "code",
   "execution_count": null,
   "id": "8b874021-bf24-4679-9bfb-e778c9f7aaa5",
   "metadata": {},
   "outputs": [],
   "source": []
  },
  {
   "cell_type": "markdown",
   "id": "fb70bed1-d0e1-4b9b-82ab-b445ed5c0757",
   "metadata": {},
   "source": [
    "# Nested For loops"
   ]
  },
  {
   "cell_type": "code",
   "execution_count": 17,
   "id": "7bd33ba9-5679-48ad-9105-070369a6f7d8",
   "metadata": {},
   "outputs": [],
   "source": [
    "flavors = ['Vannila','Chocolate','Cookie dough']\n",
    "toppings = ['Hot fudge','Oreos','Marshmellows']"
   ]
  },
  {
   "cell_type": "code",
   "execution_count": 19,
   "id": "60e4abdb-5132-4430-afe1-cc27300c90c2",
   "metadata": {},
   "outputs": [
    {
     "name": "stdout",
     "output_type": "stream",
     "text": [
      "Vannila is topped with Hot fudge\n",
      "Vannila is topped with Oreos\n",
      "Vannila is topped with Marshmellows\n",
      "Chocolate is topped with Hot fudge\n",
      "Chocolate is topped with Oreos\n",
      "Chocolate is topped with Marshmellows\n",
      "Cookie dough is topped with Hot fudge\n",
      "Cookie dough is topped with Oreos\n",
      "Cookie dough is topped with Marshmellows\n"
     ]
    }
   ],
   "source": [
    "for one in flavors:\n",
    "    for two in toppings:\n",
    "        print(one +' is topped with '+ two)"
   ]
  },
  {
   "cell_type": "code",
   "execution_count": null,
   "id": "b4e60249-de17-488b-b86a-5ba8d51463e5",
   "metadata": {},
   "outputs": [],
   "source": []
  },
  {
   "cell_type": "code",
   "execution_count": null,
   "id": "2b3216b3-ebc5-4027-8a80-1775b1c588af",
   "metadata": {},
   "outputs": [],
   "source": []
  },
  {
   "cell_type": "code",
   "execution_count": null,
   "id": "fdd6abe3-4b19-494e-b14a-5019cc779289",
   "metadata": {},
   "outputs": [],
   "source": []
  },
  {
   "cell_type": "code",
   "execution_count": null,
   "id": "122151ef-dcb0-4c28-839a-649b0a2ff1af",
   "metadata": {},
   "outputs": [],
   "source": []
  },
  {
   "cell_type": "code",
   "execution_count": null,
   "id": "71519109-f16b-4144-b950-5adaeddb6ebc",
   "metadata": {},
   "outputs": [],
   "source": []
  },
  {
   "cell_type": "code",
   "execution_count": null,
   "id": "a49af371-3b15-4872-ba93-3c320925b4db",
   "metadata": {},
   "outputs": [],
   "source": []
  },
  {
   "cell_type": "code",
   "execution_count": null,
   "id": "4dedb8de-33b9-418d-a2c5-68cac8932887",
   "metadata": {},
   "outputs": [],
   "source": []
  },
  {
   "cell_type": "code",
   "execution_count": null,
   "id": "8e6aea2d-207c-4805-934f-2c638c231d0d",
   "metadata": {},
   "outputs": [],
   "source": []
  },
  {
   "cell_type": "code",
   "execution_count": null,
   "id": "e924097e-ec39-48aa-8518-58bb1d79fcb9",
   "metadata": {},
   "outputs": [],
   "source": []
  },
  {
   "cell_type": "code",
   "execution_count": null,
   "id": "f907a134-a36a-4ec8-8181-3ad433e45737",
   "metadata": {},
   "outputs": [],
   "source": []
  },
  {
   "cell_type": "code",
   "execution_count": null,
   "id": "5e21fa54-0fb8-4bec-a7d2-a58b34de44ff",
   "metadata": {},
   "outputs": [],
   "source": []
  },
  {
   "cell_type": "code",
   "execution_count": null,
   "id": "db8cea30-846d-4811-953a-882100c5f430",
   "metadata": {},
   "outputs": [],
   "source": []
  },
  {
   "cell_type": "code",
   "execution_count": null,
   "id": "69f881a2-11fd-453d-8be2-ceec8d4f58d1",
   "metadata": {},
   "outputs": [],
   "source": []
  }
 ],
 "metadata": {
  "kernelspec": {
   "display_name": "Python 3 (ipykernel)",
   "language": "python",
   "name": "python3"
  },
  "language_info": {
   "codemirror_mode": {
    "name": "ipython",
    "version": 3
   },
   "file_extension": ".py",
   "mimetype": "text/x-python",
   "name": "python",
   "nbconvert_exporter": "python",
   "pygments_lexer": "ipython3",
   "version": "3.12.7"
  }
 },
 "nbformat": 4,
 "nbformat_minor": 5
}
