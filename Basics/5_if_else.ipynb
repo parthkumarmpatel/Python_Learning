{
 "cells": [
  {
   "cell_type": "markdown",
   "id": "dd5c74dc-3f18-4526-aa0c-a45f97db97c8",
   "metadata": {},
   "source": [
    "# if_elif_else"
   ]
  },
  {
   "cell_type": "code",
   "execution_count": 4,
   "id": "148c3730-ebe3-4260-b65a-601dd9489786",
   "metadata": {},
   "outputs": [
    {
     "name": "stdout",
     "output_type": "stream",
     "text": [
      "It Worked!\n"
     ]
    }
   ],
   "source": [
    "if 25> 10:\n",
    "    print('It Worked!')"
   ]
  },
  {
   "cell_type": "code",
   "execution_count": 7,
   "id": "a37c1bde-0ef7-49f8-9ce0-cca6d11cbc25",
   "metadata": {},
   "outputs": [
    {
     "name": "stdout",
     "output_type": "stream",
     "text": [
      "It did not work..\n"
     ]
    }
   ],
   "source": [
    "if 25 < 10:\n",
    "    print('It Worked!')\n",
    "else:\n",
    "    print('It did not work..')"
   ]
  },
  {
   "cell_type": "code",
   "execution_count": 14,
   "id": "4ee43063-7d02-4956-8497-83ceab903a57",
   "metadata": {},
   "outputs": [
    {
     "name": "stdout",
     "output_type": "stream",
     "text": [
      "elif 3 worked\n"
     ]
    }
   ],
   "source": [
    "if 25 < 10:\n",
    "    print('It Worked!')\n",
    "elif 15 > 25:\n",
    "    print('elif 1 worked')\n",
    "elif 26>48:\n",
    "    print('elif 2 worked')\n",
    "elif 50>48:\n",
    "    print('elif 3 worked')\n",
    "elif 26>53:\n",
    "    print('elif 4 worked')\n",
    "else:\n",
    "    print('It did not work..')"
   ]
  },
  {
   "cell_type": "code",
   "execution_count": 13,
   "id": "c1cdb593-4522-4b3c-b288-4b1ebe000252",
   "metadata": {},
   "outputs": [
    {
     "name": "stdout",
     "output_type": "stream",
     "text": [
      "It did not work\n"
     ]
    }
   ],
   "source": [
    "print('it worked!') if 10 > 30 else print('It did not work')"
   ]
  },
  {
   "cell_type": "code",
   "execution_count": null,
   "id": "28039016-6585-4f0d-bf82-b81a77047298",
   "metadata": {},
   "outputs": [],
   "source": []
  },
  {
   "cell_type": "code",
   "execution_count": 15,
   "id": "894035de-d475-4b66-91d9-2fdf3179443d",
   "metadata": {},
   "outputs": [
    {
     "name": "stdout",
     "output_type": "stream",
     "text": [
      "It Worked!\n",
      "This nested if statement worked!\n"
     ]
    }
   ],
   "source": [
    "if (25 < 10) or (1 < 3):\n",
    "    print('It Worked!')\n",
    "    if 10 > 5:\n",
    "        print('This nested if statement worked!')\n",
    "elif 15 > 25:\n",
    "    print('elif 1 worked')\n",
    "elif 26>48:\n",
    "    print('elif 2 worked')\n",
    "elif 50>48:\n",
    "    print('elif 3 worked')\n",
    "elif 26>53:\n",
    "    print('elif 4 worked')\n",
    "else:\n",
    "    print('It did not work..')"
   ]
  },
  {
   "cell_type": "code",
   "execution_count": null,
   "id": "90c2ea10-afc5-4f2d-bb43-6974b0e6e237",
   "metadata": {},
   "outputs": [],
   "source": []
  },
  {
   "cell_type": "code",
   "execution_count": null,
   "id": "e1273bd4-d96c-4677-8a85-301320c9653d",
   "metadata": {},
   "outputs": [],
   "source": []
  },
  {
   "cell_type": "code",
   "execution_count": null,
   "id": "91e040f0-bc7d-4232-8bc3-595733e84dec",
   "metadata": {},
   "outputs": [],
   "source": []
  },
  {
   "cell_type": "code",
   "execution_count": null,
   "id": "86c4ac69-43e6-4a94-9aac-3475ae2e2ebd",
   "metadata": {},
   "outputs": [],
   "source": []
  },
  {
   "cell_type": "code",
   "execution_count": null,
   "id": "2a76da76-0f20-4bfc-9a33-c856904a2808",
   "metadata": {},
   "outputs": [],
   "source": []
  },
  {
   "cell_type": "code",
   "execution_count": null,
   "id": "2aa5a60f-c4c9-4937-a417-092bcfe395d5",
   "metadata": {},
   "outputs": [],
   "source": []
  },
  {
   "cell_type": "code",
   "execution_count": null,
   "id": "0f1098ae-12df-4645-865a-c64fe85b322b",
   "metadata": {},
   "outputs": [],
   "source": []
  },
  {
   "cell_type": "code",
   "execution_count": null,
   "id": "e6e258cd-90e9-4228-bbeb-0e7d68a19868",
   "metadata": {},
   "outputs": [],
   "source": []
  },
  {
   "cell_type": "code",
   "execution_count": null,
   "id": "91e9365e-e6b1-452a-a427-4c823215d282",
   "metadata": {},
   "outputs": [],
   "source": []
  },
  {
   "cell_type": "code",
   "execution_count": null,
   "id": "fc1946fd-ecfc-45cf-b0fb-24e0b1ebc7e3",
   "metadata": {},
   "outputs": [],
   "source": []
  },
  {
   "cell_type": "code",
   "execution_count": null,
   "id": "584f8038-9dea-4d66-97b6-99046deeb4e7",
   "metadata": {},
   "outputs": [],
   "source": []
  },
  {
   "cell_type": "code",
   "execution_count": null,
   "id": "efbe3ea8-ea59-445a-be9c-39f9de89f412",
   "metadata": {},
   "outputs": [],
   "source": []
  },
  {
   "cell_type": "code",
   "execution_count": null,
   "id": "558aad4d-af7d-4895-8dc2-57b0b7a42ba2",
   "metadata": {},
   "outputs": [],
   "source": []
  },
  {
   "cell_type": "code",
   "execution_count": null,
   "id": "e10d4a1c-96c6-4c78-9ab7-5f5fa6e8bf7d",
   "metadata": {},
   "outputs": [],
   "source": []
  },
  {
   "cell_type": "code",
   "execution_count": null,
   "id": "f9d60485-0fd1-4c27-a151-7b0697579805",
   "metadata": {},
   "outputs": [],
   "source": []
  },
  {
   "cell_type": "code",
   "execution_count": null,
   "id": "223f22cd-64ee-4cfe-ac55-7e95741e85b7",
   "metadata": {},
   "outputs": [],
   "source": []
  }
 ],
 "metadata": {
  "kernelspec": {
   "display_name": "Python 3 (ipykernel)",
   "language": "python",
   "name": "python3"
  },
  "language_info": {
   "codemirror_mode": {
    "name": "ipython",
    "version": 3
   },
   "file_extension": ".py",
   "mimetype": "text/x-python",
   "name": "python",
   "nbconvert_exporter": "python",
   "pygments_lexer": "ipython3",
   "version": "3.12.7"
  }
 },
 "nbformat": 4,
 "nbformat_minor": 5
}
