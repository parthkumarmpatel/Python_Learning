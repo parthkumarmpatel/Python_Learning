{
 "cells": [
  {
   "cell_type": "markdown",
   "id": "7e9ccf80-0e21-4fde-8a06-03b8257459e5",
   "metadata": {},
   "source": [
    "# Data Types"
   ]
  },
  {
   "cell_type": "code",
   "execution_count": 1,
   "id": "ba99be29-df84-48c6-a165-c07649fab475",
   "metadata": {},
   "outputs": [
    {
     "data": {
      "text/plain": [
       "int"
      ]
     },
     "execution_count": 1,
     "metadata": {},
     "output_type": "execute_result"
    }
   ],
   "source": [
    "type(12)"
   ]
  },
  {
   "cell_type": "code",
   "execution_count": 2,
   "id": "6932d2cd-585f-470d-8f6b-a6bc61e1150e",
   "metadata": {},
   "outputs": [
    {
     "data": {
      "text/plain": [
       "float"
      ]
     },
     "execution_count": 2,
     "metadata": {},
     "output_type": "execute_result"
    }
   ],
   "source": [
    "type(11+12.5)"
   ]
  },
  {
   "cell_type": "code",
   "execution_count": 4,
   "id": "a039d72e-548c-4db3-87a0-05f4c435fd5d",
   "metadata": {},
   "outputs": [
    {
     "data": {
      "text/plain": [
       "complex"
      ]
     },
     "execution_count": 4,
     "metadata": {},
     "output_type": "execute_result"
    }
   ],
   "source": [
    "type(12+3j)"
   ]
  },
  {
   "cell_type": "code",
   "execution_count": 6,
   "id": "f0f6aaaf-e2ea-423f-a94f-2683478441ac",
   "metadata": {},
   "outputs": [
    {
     "data": {
      "text/plain": [
       "bool"
      ]
     },
     "execution_count": 6,
     "metadata": {},
     "output_type": "execute_result"
    }
   ],
   "source": [
    "#Boolean\n",
    "\n",
    "type(True)\n",
    "type(False)"
   ]
  },
  {
   "cell_type": "code",
   "execution_count": 7,
   "id": "bacebc3c-d319-480f-9251-171b82f1cf68",
   "metadata": {},
   "outputs": [
    {
     "data": {
      "text/plain": [
       "bool"
      ]
     },
     "execution_count": 7,
     "metadata": {},
     "output_type": "execute_result"
    }
   ],
   "source": [
    "type( 1 > 5 )"
   ]
  },
  {
   "cell_type": "code",
   "execution_count": 8,
   "id": "c50ff59a-55c8-4a31-921d-41df1e508805",
   "metadata": {},
   "outputs": [
    {
     "data": {
      "text/plain": [
       "False"
      ]
     },
     "execution_count": 8,
     "metadata": {},
     "output_type": "execute_result"
    }
   ],
   "source": [
    "1 > 6"
   ]
  },
  {
   "cell_type": "code",
   "execution_count": null,
   "id": "7043fdc1-e5e5-4273-8325-aab08b2aeea2",
   "metadata": {},
   "outputs": [],
   "source": []
  },
  {
   "cell_type": "code",
   "execution_count": 9,
   "id": "2e952f59-8943-4e30-a652-4510ac17a184",
   "metadata": {},
   "outputs": [
    {
     "data": {
      "text/plain": [
       "'Single Quote'"
      ]
     },
     "execution_count": 9,
     "metadata": {},
     "output_type": "execute_result"
    }
   ],
   "source": [
    "# Strings\n",
    "\n",
    "'Single Quote'"
   ]
  },
  {
   "cell_type": "code",
   "execution_count": 10,
   "id": "2e88dadb-fc44-4a71-89d3-3a370df51263",
   "metadata": {},
   "outputs": [
    {
     "data": {
      "text/plain": [
       "'Double Quote'"
      ]
     },
     "execution_count": 10,
     "metadata": {},
     "output_type": "execute_result"
    }
   ],
   "source": [
    "\"Double Quote\""
   ]
  },
  {
   "cell_type": "code",
   "execution_count": 13,
   "id": "cce3dffa-659d-4237-aa29-2162719d3f77",
   "metadata": {},
   "outputs": [],
   "source": [
    "#multiline quote\n",
    "multiline=\"\"\"\n",
    "tri\n",
    "ple\n",
    "quote\n",
    "\"\"\""
   ]
  },
  {
   "cell_type": "code",
   "execution_count": 14,
   "id": "b0590f97-e84d-4d92-9288-2f72c4e54a11",
   "metadata": {},
   "outputs": [
    {
     "name": "stdout",
     "output_type": "stream",
     "text": [
      "\n",
      "tri\n",
      "ple\n",
      "quote\n",
      "\n"
     ]
    }
   ],
   "source": [
    "print(multiline)"
   ]
  },
  {
   "cell_type": "code",
   "execution_count": 31,
   "id": "6cb97b07-6003-4eb1-bf93-95168bac9956",
   "metadata": {},
   "outputs": [],
   "source": [
    "#for this type of sentence if included single quote ' < then use start and end with \"\" double quote and if have double quotes use \"\"\" triple quote.\n",
    "quo= \"\"\"\n",
    "I've always wanted to eat a gallon of \"ice cream\".\n",
    "\"\"\""
   ]
  },
  {
   "cell_type": "code",
   "execution_count": 33,
   "id": "f831ee8d-817a-4c65-9328-d702159fd16c",
   "metadata": {},
   "outputs": [
    {
     "name": "stdout",
     "output_type": "stream",
     "text": [
      "\n",
      "I've always wanted to eat a gallon of \"ice cream\".\n",
      "\n"
     ]
    }
   ],
   "source": [
    "print(quo)"
   ]
  },
  {
   "cell_type": "code",
   "execution_count": null,
   "id": "be8db06e-895e-492d-83cf-38b68b0f2c15",
   "metadata": {},
   "outputs": [],
   "source": [
    "\n"
   ]
  },
  {
   "cell_type": "code",
   "execution_count": 34,
   "id": "c3a647e7-a94a-4f7d-b5dd-53410ef3a083",
   "metadata": {},
   "outputs": [],
   "source": [
    "a = 'Hello World!'"
   ]
  },
  {
   "cell_type": "code",
   "execution_count": 52,
   "id": "3955109a-fe9e-490b-8855-1d91acd0fc28",
   "metadata": {},
   "outputs": [
    {
     "name": "stdout",
     "output_type": "stream",
     "text": [
      "!\n"
     ]
    }
   ],
   "source": [
    "print(a[-1])\n"
   ]
  },
  {
   "cell_type": "markdown",
   "id": "8513837d-f0dd-47cf-9f10-de21d8ef0820",
   "metadata": {},
   "source": [
    "print(a[4])"
   ]
  },
  {
   "cell_type": "code",
   "execution_count": 48,
   "id": "8dab4c04-ff04-454f-b559-72e42d6ac1db",
   "metadata": {},
   "outputs": [
    {
     "name": "stdout",
     "output_type": "stream",
     "text": [
      "!\n"
     ]
    }
   ],
   "source": [
    "print(a[-1])"
   ]
  },
  {
   "cell_type": "code",
   "execution_count": 53,
   "id": "986337cc-31de-4dda-a544-af5b729fa7b8",
   "metadata": {},
   "outputs": [
    {
     "data": {
      "text/plain": [
       "'Hello World!Hello World!Hello World!'"
      ]
     },
     "execution_count": 53,
     "metadata": {},
     "output_type": "execute_result"
    }
   ],
   "source": [
    "a*3"
   ]
  },
  {
   "cell_type": "code",
   "execution_count": 54,
   "id": "d3e2bb2b-9edf-4f91-9d67-e3fbfad7113f",
   "metadata": {},
   "outputs": [
    {
     "data": {
      "text/plain": [
       "'Hello World!Hello World!'"
      ]
     },
     "execution_count": 54,
     "metadata": {},
     "output_type": "execute_result"
    }
   ],
   "source": [
    "a + a"
   ]
  },
  {
   "cell_type": "code",
   "execution_count": null,
   "id": "7ea5b9d0-3c36-4da7-8cb5-22577b5d5c7b",
   "metadata": {},
   "outputs": [],
   "source": []
  },
  {
   "cell_type": "markdown",
   "id": "8d8c8e35-6233-4142-b43b-18b354f9da2a",
   "metadata": {},
   "source": [
    "# list"
   ]
  },
  {
   "cell_type": "code",
   "execution_count": 56,
   "id": "7e7c7e3f-e68f-42cd-a326-e46d412669a0",
   "metadata": {},
   "outputs": [
    {
     "data": {
      "text/plain": [
       "[1, 2, 3]"
      ]
     },
     "execution_count": 56,
     "metadata": {},
     "output_type": "execute_result"
    }
   ],
   "source": [
    "[1,2,3]"
   ]
  },
  {
   "cell_type": "code",
   "execution_count": 57,
   "id": "e583304a-e951-49e1-9000-389abc134559",
   "metadata": {},
   "outputs": [
    {
     "data": {
      "text/plain": [
       "['Coookie Dough', 'Straberry', 'Chocolate']"
      ]
     },
     "execution_count": 57,
     "metadata": {},
     "output_type": "execute_result"
    }
   ],
   "source": [
    "['Coookie Dough','Straberry','Chocolate']"
   ]
  },
  {
   "cell_type": "code",
   "execution_count": 60,
   "id": "36cb9a5f-1182-4f57-928b-2479401324de",
   "metadata": {},
   "outputs": [
    {
     "data": {
      "text/plain": [
       "['Vanilla', 3, ['Scoops', 'spoon'], True]"
      ]
     },
     "execution_count": 60,
     "metadata": {},
     "output_type": "execute_result"
    }
   ],
   "source": [
    "#diff data types in a list\n",
    "['Vanilla',3,['Scoops','spoon'],True]"
   ]
  },
  {
   "cell_type": "code",
   "execution_count": 64,
   "id": "4d7feb5c-eeae-4b22-bffe-0b6b2a396818",
   "metadata": {},
   "outputs": [
    {
     "data": {
      "text/plain": [
       "['Coookie Dough', 'Straberry', 'Chocolate', 'Salted Caramel']"
      ]
     },
     "execution_count": 64,
     "metadata": {},
     "output_type": "execute_result"
    }
   ],
   "source": [
    "ice_cream = ['Coookie Dough','Straberry','Chocolate']\n",
    "ice_cream.append('Salted Caramel')\n",
    "ice_cream"
   ]
  },
  {
   "cell_type": "code",
   "execution_count": 68,
   "id": "e7889e79-c8d1-4151-bd84-61c61e34e89d",
   "metadata": {},
   "outputs": [
    {
     "data": {
      "text/plain": [
       "['Butter pecan', 'Straberry', 'Chocolate', 'Salted Caramel']"
      ]
     },
     "execution_count": 68,
     "metadata": {},
     "output_type": "execute_result"
    }
   ],
   "source": [
    "ice_cream[0] = 'Butter pecan'\n",
    "\n",
    "ice_cream"
   ]
  },
  {
   "cell_type": "code",
   "execution_count": 70,
   "id": "89640ffe-5587-4902-979f-b9359e605a7f",
   "metadata": {},
   "outputs": [
    {
     "data": {
      "text/plain": [
       "'spoon'"
      ]
     },
     "execution_count": 70,
     "metadata": {},
     "output_type": "execute_result"
    }
   ],
   "source": [
    "nest_list = ['Vanilla',3,['Scoops','spoon'],True]\n",
    "nest_list[2][1]"
   ]
  },
  {
   "cell_type": "raw",
   "id": "66a9172d-9137-43c0-bcab-73ebd14861b9",
   "metadata": {},
   "source": []
  },
  {
   "cell_type": "markdown",
   "id": "de7f3ab8-bdf8-4ff8-a42a-b2546e51db37",
   "metadata": {},
   "source": [
    "# tuples"
   ]
  },
  {
   "cell_type": "code",
   "execution_count": null,
   "id": "f968a419-4735-485d-95ee-a922acc66bc3",
   "metadata": {},
   "outputs": [],
   "source": []
  },
  {
   "cell_type": "code",
   "execution_count": 71,
   "id": "a9bb0622-8fe8-406f-810f-9dd3765d3da8",
   "metadata": {},
   "outputs": [],
   "source": [
    "tuple_scoops =(1,2,3,2,1)"
   ]
  },
  {
   "cell_type": "code",
   "execution_count": 72,
   "id": "ea57c81d-0d0b-4c04-9b50-46839b7cebc1",
   "metadata": {},
   "outputs": [
    {
     "data": {
      "text/plain": [
       "tuple"
      ]
     },
     "execution_count": 72,
     "metadata": {},
     "output_type": "execute_result"
    }
   ],
   "source": [
    "type(tuple_scoops)"
   ]
  },
  {
   "cell_type": "code",
   "execution_count": 73,
   "id": "95a18083-6d0a-4cf3-93bf-93381fb7d866",
   "metadata": {},
   "outputs": [
    {
     "data": {
      "text/plain": [
       "2"
      ]
     },
     "execution_count": 73,
     "metadata": {},
     "output_type": "execute_result"
    }
   ],
   "source": [
    "tuple_scoops[1]"
   ]
  },
  {
   "cell_type": "code",
   "execution_count": null,
   "id": "5c6c6ca8-a7a0-4916-b7e7-0a822cfb69f7",
   "metadata": {},
   "outputs": [],
   "source": []
  },
  {
   "cell_type": "markdown",
   "id": "ef6be0f5-1ca3-4189-8e4e-350df5cb7acf",
   "metadata": {},
   "source": [
    "# sets"
   ]
  },
  {
   "cell_type": "code",
   "execution_count": 74,
   "id": "d147815f-3fb3-43ca-a3b1-ed1eaa2aa7aa",
   "metadata": {},
   "outputs": [],
   "source": [
    "# does not have index because as it's unordered,returns unique"
   ]
  },
  {
   "cell_type": "code",
   "execution_count": 75,
   "id": "5a6c6f9d-d5fd-4b3e-900c-3dc44112daf6",
   "metadata": {},
   "outputs": [],
   "source": [
    "daily_pints = {1,2,3}"
   ]
  },
  {
   "cell_type": "code",
   "execution_count": 76,
   "id": "a047dc67-d7d3-4cac-8585-2af6103af6bf",
   "metadata": {},
   "outputs": [
    {
     "data": {
      "text/plain": [
       "set"
      ]
     },
     "execution_count": 76,
     "metadata": {},
     "output_type": "execute_result"
    }
   ],
   "source": [
    "type(daily_pints)"
   ]
  },
  {
   "cell_type": "code",
   "execution_count": 78,
   "id": "25c64db5-24ae-4c5e-9276-08ee00fbb277",
   "metadata": {},
   "outputs": [
    {
     "name": "stdout",
     "output_type": "stream",
     "text": [
      "{1, 2, 4, 5, 6, 31}\n"
     ]
    }
   ],
   "source": [
    "daily_pints_log = {1,2,31,2,1,4,5,6,5}\n",
    "print(daily_pints_log)"
   ]
  },
  {
   "cell_type": "code",
   "execution_count": 80,
   "id": "f6cae61c-3d38-4d9b-8635-aa435aad7779",
   "metadata": {},
   "outputs": [],
   "source": [
    "wifes_daily_pints_log = {1,3,5,6,3,5,2,0,7,3,5}"
   ]
  },
  {
   "cell_type": "code",
   "execution_count": 81,
   "id": "fc52675e-d2f5-46d4-a214-cefef49e460c",
   "metadata": {},
   "outputs": [
    {
     "name": "stdout",
     "output_type": "stream",
     "text": [
      "{0, 1, 2, 3, 4, 5, 6, 7, 31}\n"
     ]
    }
   ],
   "source": [
    "# prints both the sets unique value combined \n",
    "# \"\\\" straight line compare both any get unique\n",
    "print(daily_pints_log | wifes_daily_pints_log)"
   ]
  },
  {
   "cell_type": "code",
   "execution_count": 84,
   "id": "170ae226-d55e-44bb-a1c0-4895a4d0017b",
   "metadata": {},
   "outputs": [
    {
     "name": "stdout",
     "output_type": "stream",
     "text": [
      "{1, 2, 5, 6}\n"
     ]
    }
   ],
   "source": [
    "# & < shows what mmatches\n",
    "print(daily_pints_log & wifes_daily_pints_log)"
   ]
  },
  {
   "cell_type": "code",
   "execution_count": 85,
   "id": "39dc6a38-f88e-486c-946d-1123931c0c7e",
   "metadata": {},
   "outputs": [
    {
     "name": "stdout",
     "output_type": "stream",
     "text": [
      "{4, 31}\n"
     ]
    }
   ],
   "source": [
    "# - < shows what doesn't matches in the second\n",
    "print(daily_pints_log - wifes_daily_pints_log)"
   ]
  },
  {
   "cell_type": "code",
   "execution_count": 86,
   "id": "33c0e924-ae65-4751-a078-bd0809dd31c4",
   "metadata": {},
   "outputs": [
    {
     "name": "stdout",
     "output_type": "stream",
     "text": [
      "{0, 3, 7}\n"
     ]
    }
   ],
   "source": [
    "# - < shows what doesn't matches in the second\n",
    "print(wifes_daily_pints_log - daily_pints_log)"
   ]
  },
  {
   "cell_type": "code",
   "execution_count": 87,
   "id": "0280ea99-9301-4dd1-ade6-dfd0dc1cafca",
   "metadata": {},
   "outputs": [
    {
     "name": "stdout",
     "output_type": "stream",
     "text": [
      "{0, 3, 4, 7, 31}\n"
     ]
    }
   ],
   "source": [
    "# ^ < shows what doesn't matches in the both must uniqque\n",
    "print(wifes_daily_pints_log ^ daily_pints_log)"
   ]
  },
  {
   "cell_type": "code",
   "execution_count": null,
   "id": "7c51b4d6-aaa4-43c9-b750-1079e5a49769",
   "metadata": {},
   "outputs": [],
   "source": []
  },
  {
   "cell_type": "markdown",
   "id": "4931d1d9-3d62-4b5a-9b91-721e29492665",
   "metadata": {},
   "source": [
    "# Dictionary"
   ]
  },
  {
   "cell_type": "code",
   "execution_count": 91,
   "id": "e3ccbe69-d0c8-4372-9dc0-4c45d735ce65",
   "metadata": {},
   "outputs": [],
   "source": [
    "#Key/ Value Pair\n",
    "\n",
    "dict_myself = {'name':'Parth Patel','Job':'MIS','skills':['SQL','Power BI','Advanced Excel']}"
   ]
  },
  {
   "cell_type": "code",
   "execution_count": 93,
   "id": "1d621e28-7a70-42b8-9362-1f957465e37e",
   "metadata": {},
   "outputs": [
    {
     "data": {
      "text/plain": [
       "dict"
      ]
     },
     "execution_count": 93,
     "metadata": {},
     "output_type": "execute_result"
    }
   ],
   "source": [
    "type(dict_myself)"
   ]
  },
  {
   "cell_type": "code",
   "execution_count": 94,
   "id": "4a35416e-137c-458c-8c33-ecd84c563bbc",
   "metadata": {},
   "outputs": [
    {
     "name": "stdout",
     "output_type": "stream",
     "text": [
      "{'name': 'Parth Patel', 'Job': 'MIS', 'skills': ['SQL', 'Power BI', 'Advanced Excel']}\n"
     ]
    }
   ],
   "source": [
    "print(dict_myself)"
   ]
  },
  {
   "cell_type": "code",
   "execution_count": 95,
   "id": "9cac7a02-ec96-440f-b029-d303e5653704",
   "metadata": {},
   "outputs": [
    {
     "data": {
      "text/plain": [
       "dict_values(['Parth Patel', 'MIS', ['SQL', 'Power BI', 'Advanced Excel']])"
      ]
     },
     "execution_count": 95,
     "metadata": {},
     "output_type": "execute_result"
    }
   ],
   "source": [
    "dict_myself.values()"
   ]
  },
  {
   "cell_type": "code",
   "execution_count": 97,
   "id": "c55bf3b8-db42-4293-b16f-9948f92ade09",
   "metadata": {},
   "outputs": [
    {
     "data": {
      "text/plain": [
       "dict_keys(['name', 'Job', 'skills'])"
      ]
     },
     "execution_count": 97,
     "metadata": {},
     "output_type": "execute_result"
    }
   ],
   "source": [
    "dict_myself.keys()"
   ]
  },
  {
   "cell_type": "code",
   "execution_count": 98,
   "id": "0544f1d8-e1db-4a10-b956-26bfa5c9b47d",
   "metadata": {},
   "outputs": [
    {
     "data": {
      "text/plain": [
       "dict_items([('name', 'Parth Patel'), ('Job', 'MIS'), ('skills', ['SQL', 'Power BI', 'Advanced Excel'])])"
      ]
     },
     "execution_count": 98,
     "metadata": {},
     "output_type": "execute_result"
    }
   ],
   "source": [
    "dict_myself.items()"
   ]
  },
  {
   "cell_type": "code",
   "execution_count": 100,
   "id": "3f82ae52-e346-4c2b-978c-30ffc028b9db",
   "metadata": {},
   "outputs": [
    {
     "data": {
      "text/plain": [
       "'Parth Patel'"
      ]
     },
     "execution_count": 100,
     "metadata": {},
     "output_type": "execute_result"
    }
   ],
   "source": [
    "dict_myself['name']"
   ]
  },
  {
   "cell_type": "code",
   "execution_count": 101,
   "id": "bae5c43b-b577-4429-b16f-4bcf008733dd",
   "metadata": {},
   "outputs": [
    {
     "name": "stdout",
     "output_type": "stream",
     "text": [
      "{'name': 'Parth', 'Job': 'MIS', 'skills': ['SQL', 'Power BI', 'Advanced Excel']}\n"
     ]
    }
   ],
   "source": [
    "dict_myself['name'] = 'Parth'\n",
    "print(dict_myself)"
   ]
  },
  {
   "cell_type": "code",
   "execution_count": null,
   "id": "be8851e8-8f8d-4257-b7b7-b53e0c218f0f",
   "metadata": {},
   "outputs": [],
   "source": []
  },
  {
   "cell_type": "code",
   "execution_count": 103,
   "id": "501285e3-4e3b-4dd2-95f6-305d8b22cade",
   "metadata": {},
   "outputs": [
    {
     "name": "stdout",
     "output_type": "stream",
     "text": [
      "{'name': 'Parth Patel', 'Job': 'MIS', 'skills': ['SQL', 'Power BI', 'Advanced Excel', 'Python']}\n"
     ]
    }
   ],
   "source": [
    "dict_myself.update({'name': 'Parth Patel', 'Job': 'MIS', 'skills': ['SQL', 'Power BI', 'Advanced Excel','Python']})\n",
    "print(dict_myself)"
   ]
  },
  {
   "cell_type": "code",
   "execution_count": 108,
   "id": "0d2676b1-8862-4514-bb2d-b070af62e9f1",
   "metadata": {},
   "outputs": [
    {
     "ename": "KeyError",
     "evalue": "'Job'",
     "output_type": "error",
     "traceback": [
      "\u001b[1;31m---------------------------------------------------------------------------\u001b[0m",
      "\u001b[1;31mKeyError\u001b[0m                                  Traceback (most recent call last)",
      "Cell \u001b[1;32mIn[108], line 1\u001b[0m\n\u001b[1;32m----> 1\u001b[0m \u001b[38;5;28;01mdel\u001b[39;00m dict_myself[\u001b[38;5;124m'\u001b[39m\u001b[38;5;124mJob\u001b[39m\u001b[38;5;124m'\u001b[39m]\n",
      "\u001b[1;31mKeyError\u001b[0m: 'Job'"
     ]
    }
   ],
   "source": [
    "del dict_myself['Job']"
   ]
  },
  {
   "cell_type": "code",
   "execution_count": 109,
   "id": "175b0c4a-8f8b-4c05-b3c1-0c46abe3ddae",
   "metadata": {},
   "outputs": [
    {
     "name": "stdout",
     "output_type": "stream",
     "text": [
      "{'name': 'Parth Patel', 'skills': ['SQL', 'Power BI', 'Advanced Excel', 'Python']}\n"
     ]
    }
   ],
   "source": [
    "print(dict_myself)"
   ]
  },
  {
   "cell_type": "code",
   "execution_count": 110,
   "id": "cef61979-857e-4c50-a6ed-940a77574238",
   "metadata": {},
   "outputs": [],
   "source": [
    "dict_myself.update({'name': 'Parth Patel', 'Job': 'MIS', 'skills': ['SQL', 'Power BI', 'Advanced Excel','Python']})"
   ]
  },
  {
   "cell_type": "code",
   "execution_count": 111,
   "id": "a7118a74-710e-4746-b24b-107136e85a23",
   "metadata": {},
   "outputs": [
    {
     "name": "stdout",
     "output_type": "stream",
     "text": [
      "{'name': 'Parth Patel', 'skills': ['SQL', 'Power BI', 'Advanced Excel', 'Python'], 'Job': 'MIS'}\n"
     ]
    }
   ],
   "source": [
    "print(dict_myself)"
   ]
  },
  {
   "cell_type": "code",
   "execution_count": null,
   "id": "e5020e74-6ee5-45ee-81f1-fac74bc2a7fb",
   "metadata": {},
   "outputs": [],
   "source": []
  },
  {
   "cell_type": "code",
   "execution_count": null,
   "id": "809c3af8-d887-49e5-b25c-09956668e90b",
   "metadata": {},
   "outputs": [],
   "source": []
  },
  {
   "cell_type": "code",
   "execution_count": null,
   "id": "80332bfc-09c4-48f6-bd48-4c1a53cdbfde",
   "metadata": {},
   "outputs": [],
   "source": []
  },
  {
   "cell_type": "code",
   "execution_count": 112,
   "id": "8d7a92eb-6a8f-480b-9004-ab5193eb127c",
   "metadata": {},
   "outputs": [
    {
     "data": {
      "text/plain": [
       "'C:\\\\Users\\\\Parth Patel'"
      ]
     },
     "execution_count": 112,
     "metadata": {},
     "output_type": "execute_result"
    }
   ],
   "source": [
    "\n",
    "import os\n",
    "os.getcwd()"
   ]
  },
  {
   "cell_type": "code",
   "execution_count": null,
   "id": "ad156ee8-987b-4e04-bc3a-2f4529304c81",
   "metadata": {},
   "outputs": [],
   "source": []
  },
  {
   "cell_type": "code",
   "execution_count": null,
   "id": "d6c52363-9afd-47e6-93a0-aa0bfdc308f2",
   "metadata": {},
   "outputs": [],
   "source": []
  },
  {
   "cell_type": "code",
   "execution_count": null,
   "id": "833ffe90-e32f-44ed-93b6-defa450d93bc",
   "metadata": {},
   "outputs": [],
   "source": []
  },
  {
   "cell_type": "code",
   "execution_count": null,
   "id": "540b6496-807f-409c-b9e4-586b6098bcb2",
   "metadata": {},
   "outputs": [],
   "source": []
  },
  {
   "cell_type": "code",
   "execution_count": null,
   "id": "cba7dd24-55c2-4648-a840-44df837158a9",
   "metadata": {},
   "outputs": [],
   "source": []
  },
  {
   "cell_type": "code",
   "execution_count": null,
   "id": "d4a25b8c-e34d-41d3-bcad-43aab8b3c231",
   "metadata": {},
   "outputs": [],
   "source": []
  },
  {
   "cell_type": "code",
   "execution_count": null,
   "id": "588d0f9b-83e1-4ff7-8e94-4ce167401720",
   "metadata": {},
   "outputs": [],
   "source": []
  },
  {
   "cell_type": "code",
   "execution_count": null,
   "id": "d6fa04dc-242e-4ca4-bf28-34cdc25675be",
   "metadata": {},
   "outputs": [],
   "source": []
  },
  {
   "cell_type": "code",
   "execution_count": null,
   "id": "fea70f8a-a3aa-4613-9109-35568de4fbf6",
   "metadata": {},
   "outputs": [],
   "source": []
  },
  {
   "cell_type": "markdown",
   "id": "c17e3911-4b14-4261-bd23-369ad8173f51",
   "metadata": {},
   "source": [
    "# ool"
   ]
  }
 ],
 "metadata": {
  "kernelspec": {
   "display_name": "Python 3 (ipykernel)",
   "language": "python",
   "name": "python3"
  },
  "language_info": {
   "codemirror_mode": {
    "name": "ipython",
    "version": 3
   },
   "file_extension": ".py",
   "mimetype": "text/x-python",
   "name": "python",
   "nbconvert_exporter": "python",
   "pygments_lexer": "ipython3",
   "version": "3.12.7"
  }
 },
 "nbformat": 4,
 "nbformat_minor": 5
}
