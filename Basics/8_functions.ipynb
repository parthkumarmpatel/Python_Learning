{
 "cells": [
  {
   "cell_type": "markdown",
   "id": "9b2b662e-4327-457f-b449-dda03eba6b0a",
   "metadata": {},
   "source": [
    "# Functions"
   ]
  },
  {
   "cell_type": "code",
   "execution_count": 1,
   "id": "bb2b3d82-0019-407c-b291-06bfbcdce2d0",
   "metadata": {},
   "outputs": [],
   "source": [
    "def first_func():\n",
    "    print('We did it!')"
   ]
  },
  {
   "cell_type": "code",
   "execution_count": 2,
   "id": "d5c1a5cc-cc81-4a31-8982-b7be6c642a38",
   "metadata": {},
   "outputs": [
    {
     "name": "stdout",
     "output_type": "stream",
     "text": [
      "We did it!\n"
     ]
    }
   ],
   "source": [
    "first_func()"
   ]
  },
  {
   "cell_type": "code",
   "execution_count": 5,
   "id": "cca4bc7a-2875-4b46-b416-5fa66337eea9",
   "metadata": {},
   "outputs": [],
   "source": [
    "def number_squared(number):\n",
    "    print(number**2)\n"
   ]
  },
  {
   "cell_type": "code",
   "execution_count": 4,
   "id": "e6f7075a-1e44-4b2a-9e8d-44c19aaa8434",
   "metadata": {},
   "outputs": [
    {
     "name": "stdout",
     "output_type": "stream",
     "text": [
      "16\n"
     ]
    }
   ],
   "source": [
    "number_squared(4)"
   ]
  },
  {
   "cell_type": "code",
   "execution_count": 6,
   "id": "33935a48-61ca-4c5b-8b53-a0db49f97cc6",
   "metadata": {},
   "outputs": [],
   "source": [
    "def number_squared(number,power):\n",
    "    print(number**power)"
   ]
  },
  {
   "cell_type": "code",
   "execution_count": 8,
   "id": "e9b895c2-6c05-4123-991b-a318a8dd5e23",
   "metadata": {},
   "outputs": [
    {
     "name": "stdout",
     "output_type": "stream",
     "text": [
      "125\n"
     ]
    }
   ],
   "source": [
    "number_squared(5,3)"
   ]
  },
  {
   "cell_type": "raw",
   "id": "1704dd97-90e4-4d3c-aa49-c99b74d93ea0",
   "metadata": {},
   "source": []
  },
  {
   "cell_type": "code",
   "execution_count": 9,
   "id": "2117187d-7d4c-4f95-bd62-eec0b47d34e3",
   "metadata": {},
   "outputs": [],
   "source": [
    "#arbitary argument if we don't know how many parameters need to pass and wee will mention it in the print or others like[0] position\n",
    "def number_args(*number):\n",
    "    print(number[0]*number[1])\n",
    "    "
   ]
  },
  {
   "cell_type": "code",
   "execution_count": 11,
   "id": "37852aec-f18d-44f2-99a2-c217dcd7bba3",
   "metadata": {},
   "outputs": [
    {
     "name": "stdout",
     "output_type": "stream",
     "text": [
      "30\n"
     ]
    }
   ],
   "source": [
    "#for this number[0]=5 and number[1] = 6\n",
    "number_args(5,6,1,2,8)"
   ]
  },
  {
   "cell_type": "code",
   "execution_count": 13,
   "id": "64215615-31e0-4d3d-aa9b-86f9cef694d2",
   "metadata": {},
   "outputs": [
    {
     "name": "stdout",
     "output_type": "stream",
     "text": [
      "30\n"
     ]
    }
   ],
   "source": [
    "args_tuple=(5,6,1,2,8)\n",
    "number_args(*args_tuple)\n"
   ]
  },
  {
   "cell_type": "code",
   "execution_count": null,
   "id": "ffe0124d-03cb-4a0b-8794-9dbbf253584a",
   "metadata": {},
   "outputs": [],
   "source": []
  },
  {
   "cell_type": "code",
   "execution_count": null,
   "id": "73f798bc-6cdd-4dec-9ff9-b9154c0a6a7e",
   "metadata": {},
   "outputs": [],
   "source": []
  },
  {
   "cell_type": "code",
   "execution_count": 14,
   "id": "ece37af3-c0b3-4aae-9d35-665d994d5cbe",
   "metadata": {},
   "outputs": [],
   "source": [
    "def number_squared(number,power):\n",
    "    print(number**power)"
   ]
  },
  {
   "cell_type": "code",
   "execution_count": 18,
   "id": "da07313c-21ae-46f7-82ae-3256224cd32d",
   "metadata": {},
   "outputs": [
    {
     "name": "stdout",
     "output_type": "stream",
     "text": [
      "243\n"
     ]
    }
   ],
   "source": [
    "#by using para keywords you have more control over your code\n",
    "number_squared(power = 5,number = 3)"
   ]
  },
  {
   "cell_type": "code",
   "execution_count": null,
   "id": "f2d4692a-4139-4ddb-bec9-63002a5bb2db",
   "metadata": {},
   "outputs": [],
   "source": []
  },
  {
   "cell_type": "code",
   "execution_count": 25,
   "id": "eb509474-e41c-42e2-b2f9-25578ab80a5d",
   "metadata": {},
   "outputs": [],
   "source": [
    "#for keyword argumnet use ** .  > for arbitary argument use * \n",
    "def number_kword(**number):\n",
    "    print('My number is: ' + number['integer'] + 'My other number: ' + number['integer2'])\n"
   ]
  },
  {
   "cell_type": "code",
   "execution_count": 26,
   "id": "f9b0f6e6-d71d-46a4-bcea-dc9aac82d3f0",
   "metadata": {},
   "outputs": [
    {
     "name": "stdout",
     "output_type": "stream",
     "text": [
      "My number is: 2309My other number: 349\n"
     ]
    }
   ],
   "source": [
    "number_kword(integer = '2309',integer2 = '349')"
   ]
  },
  {
   "cell_type": "code",
   "execution_count": null,
   "id": "96ee8b99-146d-480a-a818-e0ebb09ca80f",
   "metadata": {},
   "outputs": [],
   "source": []
  },
  {
   "cell_type": "code",
   "execution_count": null,
   "id": "39956ce4-a9b5-46ba-80f4-3349cd3916ff",
   "metadata": {},
   "outputs": [],
   "source": []
  },
  {
   "cell_type": "code",
   "execution_count": null,
   "id": "a27f26f0-5a78-467c-8b4a-26efb3a18ef2",
   "metadata": {},
   "outputs": [],
   "source": []
  },
  {
   "cell_type": "code",
   "execution_count": null,
   "id": "7a614dfb-2e0f-46f7-bdd1-051c6c6348ff",
   "metadata": {},
   "outputs": [],
   "source": []
  },
  {
   "cell_type": "code",
   "execution_count": null,
   "id": "885928ed-74d7-4f32-9cd7-950b7b717a18",
   "metadata": {},
   "outputs": [],
   "source": []
  },
  {
   "cell_type": "code",
   "execution_count": null,
   "id": "dd7df601-2d3d-467d-8e88-cc72d2f74162",
   "metadata": {},
   "outputs": [],
   "source": []
  },
  {
   "cell_type": "code",
   "execution_count": null,
   "id": "f3b17c90-8837-4dd5-8576-2941a1a7d5b5",
   "metadata": {},
   "outputs": [],
   "source": []
  },
  {
   "cell_type": "code",
   "execution_count": null,
   "id": "c11ccfcd-90bf-44e1-901d-6556e727b1bf",
   "metadata": {},
   "outputs": [],
   "source": []
  },
  {
   "cell_type": "code",
   "execution_count": null,
   "id": "4353f3bb-f2e4-4482-884e-4ed27f2eac52",
   "metadata": {},
   "outputs": [],
   "source": []
  },
  {
   "cell_type": "code",
   "execution_count": null,
   "id": "66b956e8-c90a-4d10-9e16-ef6eeb9dda6b",
   "metadata": {},
   "outputs": [],
   "source": []
  },
  {
   "cell_type": "code",
   "execution_count": null,
   "id": "7951f360-75ec-4fe4-8643-9127a6f98dcc",
   "metadata": {},
   "outputs": [],
   "source": []
  }
 ],
 "metadata": {
  "kernelspec": {
   "display_name": "Python 3 (ipykernel)",
   "language": "python",
   "name": "python3"
  },
  "language_info": {
   "codemirror_mode": {
    "name": "ipython",
    "version": 3
   },
   "file_extension": ".py",
   "mimetype": "text/x-python",
   "name": "python",
   "nbconvert_exporter": "python",
   "pygments_lexer": "ipython3",
   "version": "3.12.7"
  }
 },
 "nbformat": 4,
 "nbformat_minor": 5
}
