{
 "cells": [
  {
   "cell_type": "markdown",
   "id": "bbc692b8-3c9f-44bd-9406-b6147e59f553",
   "metadata": {},
   "source": [
    "# BMI Calculator"
   ]
  },
  {
   "cell_type": "markdown",
   "id": "a00599cd-9fb6-42d6-a33d-22661a2de1a0",
   "metadata": {},
   "source": [
    "BMI = weight (kg) / [height (m)]²\n",
    "\n",
    "If height is in centimeters (cm):\n",
    "\n",
    "BMI = 10,000 × weight (kg) / [height (cm)]²\n",
    "\n",
    "# Body Mass Index (BMI) Criteria\n",
    "\n",
    "| **BMI (kg/m²)**    | **Category**                        |\n",
    "|--------------------|-------------------------------------|\n",
    "| Below 18.5         | Underweight                         |\n",
    "| 18.5 – 24.9        | Normal (Healthy weight)             |\n",
    "| 25.0 – 29.9        | Overweight                          |\n",
    "| 30.0 – 34.9        | Obesity Class I (Moderate)          |\n",
    "| 35.0 – 39.9        | Obesity Class II (Severe)           |\n",
    "| 40.0 and above     | Obesity Class III (Very severe)     |"
   ]
  },
  {
   "cell_type": "code",
   "execution_count": 26,
   "id": "3830ded3-fa26-47a1-857d-9b4901f96d1c",
   "metadata": {},
   "outputs": [
    {
     "name": "stdin",
     "output_type": "stream",
     "text": [
      "Enter your name:  Parth\n",
      "Enter your Weight in Kgs:  70\n",
      "Enter your Height in Cms:  172\n"
     ]
    },
    {
     "name": "stdout",
     "output_type": "stream",
     "text": [
      "Parth, your BMI is : 23.66 so, you belongs to Normal weight category.\n"
     ]
    }
   ],
   "source": [
    "name = input('Enter your name: ')\n",
    "weight = int(input('Enter your Weight in Kgs: '))\n",
    "height = int(input('Enter your Height in Cms: '))\n",
    "BMI = round(10000*weight/(height*height),2)\n",
    "if BMI>0:\n",
    "    if BMI <18.5:\n",
    "        print(name+', your BMI is : '+str(BMI)+ ' so, you belongs to underweight category.')\n",
    "    elif BMI <=24.9:\n",
    "        print(name+', your BMI is : '+str(BMI)+ ' so, you belongs to Normal weight category.')\n",
    "    elif BMI <=29.9:\n",
    "        print(name+', your BMI is : '+str(BMI)+ ' so, you belongs to Overweight category.')\n",
    "    elif BMI <=34.9:\n",
    "        print(name+', your BMI is : '+str(BMI)+ ' so, you belongs to Obesity Class I (Moderate) category.')\n",
    "    elif BMI <=39.9:\n",
    "        print(name+', your BMI is : '+str(BMI)+ ' so, you belongs to Obesity Class II (Severe) category.')\n",
    "    else:\n",
    "        print(name+', your BMI is : '+str(BMI)+ ' so, you belongs to Obesity Class III (Very severe) category.')\n",
    "else:\n",
    "    print('Enter a valid input')"
   ]
  },
  {
   "cell_type": "code",
   "execution_count": null,
   "id": "1fad9c70-0999-430b-81df-3158e8bb1888",
   "metadata": {},
   "outputs": [],
   "source": []
  },
  {
   "cell_type": "code",
   "execution_count": null,
   "id": "f7f33734-32d0-4962-9137-a1a90a8bec42",
   "metadata": {},
   "outputs": [],
   "source": []
  },
  {
   "cell_type": "code",
   "execution_count": null,
   "id": "3add512f-3af7-4084-ae37-231ebbfb4e98",
   "metadata": {},
   "outputs": [],
   "source": []
  },
  {
   "cell_type": "code",
   "execution_count": null,
   "id": "6f6bc1fc-b97f-4569-b366-6cd22b30a6be",
   "metadata": {},
   "outputs": [],
   "source": []
  },
  {
   "cell_type": "code",
   "execution_count": null,
   "id": "2b2e4a44-d1c6-4fc5-961c-35e3b67ddf63",
   "metadata": {},
   "outputs": [],
   "source": []
  },
  {
   "cell_type": "code",
   "execution_count": null,
   "id": "318d1406-1dac-425f-a4c4-c00dafdb3cc7",
   "metadata": {},
   "outputs": [],
   "source": []
  },
  {
   "cell_type": "code",
   "execution_count": null,
   "id": "44946acb-1167-4b3b-ade8-7031848e2f65",
   "metadata": {},
   "outputs": [],
   "source": []
  },
  {
   "cell_type": "code",
   "execution_count": null,
   "id": "63531113-ca8a-4b3a-931e-4c0a1a66aa62",
   "metadata": {},
   "outputs": [],
   "source": []
  },
  {
   "cell_type": "code",
   "execution_count": null,
   "id": "fb5727d3-38f4-4af3-bd3b-4b00d9e50f4b",
   "metadata": {},
   "outputs": [],
   "source": []
  },
  {
   "cell_type": "code",
   "execution_count": null,
   "id": "43dc845a-0f72-4806-b118-1cce9bc303e2",
   "metadata": {},
   "outputs": [],
   "source": []
  },
  {
   "cell_type": "code",
   "execution_count": null,
   "id": "fcb0f002-4671-4e97-a2b6-30c68a87173f",
   "metadata": {},
   "outputs": [],
   "source": []
  },
  {
   "cell_type": "code",
   "execution_count": null,
   "id": "1164d72f-9665-482a-a3b4-713f21eb73d8",
   "metadata": {},
   "outputs": [],
   "source": []
  },
  {
   "cell_type": "code",
   "execution_count": null,
   "id": "71f4b3d6-8256-49a1-8e4f-6db0e007acf7",
   "metadata": {},
   "outputs": [],
   "source": []
  },
  {
   "cell_type": "code",
   "execution_count": null,
   "id": "c18237f6-e8a4-42c8-85f1-47ed1ad633e8",
   "metadata": {},
   "outputs": [],
   "source": []
  },
  {
   "cell_type": "code",
   "execution_count": null,
   "id": "f11a1914-574e-46a2-8ef1-2c29a37b4458",
   "metadata": {},
   "outputs": [],
   "source": []
  },
  {
   "cell_type": "code",
   "execution_count": null,
   "id": "3929faa7-31a4-4708-aac3-e1360d73b5c9",
   "metadata": {},
   "outputs": [],
   "source": []
  },
  {
   "cell_type": "code",
   "execution_count": null,
   "id": "8f0ddc77-1ea2-4f98-85a3-4502af0361d1",
   "metadata": {},
   "outputs": [],
   "source": []
  }
 ],
 "metadata": {
  "kernelspec": {
   "display_name": "Python 3 (ipykernel)",
   "language": "python",
   "name": "python3"
  },
  "language_info": {
   "codemirror_mode": {
    "name": "ipython",
    "version": 3
   },
   "file_extension": ".py",
   "mimetype": "text/x-python",
   "name": "python",
   "nbconvert_exporter": "python",
   "pygments_lexer": "ipython3",
   "version": "3.12.7"
  }
 },
 "nbformat": 4,
 "nbformat_minor": 5
}
