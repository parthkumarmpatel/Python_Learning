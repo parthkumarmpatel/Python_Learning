{
 "cells": [
  {
   "cell_type": "markdown",
   "id": "93c84dae-6ccb-4196-a4ae-584862fbfb11",
   "metadata": {},
   "source": [
    "#Python Challenge\n",
    "     #Validate the Quality and Correctiveness of passwords\n",
    " - Must not be empty\n",
    " - Must be 8 characters long\n",
    " - Must incclude at least 1 uppercase\n",
    " - Must incclude at least 1 lowercase\n",
    " - Must not be same as the email\n",
    " - Must not contain any spaces\n",
    " - Must start and end with a letter or digit\n",
    "   "
   ]
  },
  {
   "cell_type": "code",
   "execution_count": 77,
   "id": "08ce30a4-0a90-4180-952c-8d47783b0d96",
   "metadata": {},
   "outputs": [
    {
     "name": "stdout",
     "output_type": "stream",
     "text": [
      "start and end with alphabet or numeric\n"
     ]
    }
   ],
   "source": [
    "email = \"HHrfrf ggbbgggHHHH\"\n",
    "password= \"HHrfrfgggHHHH-\"\n",
    "#clean the extra spaces\n",
    "password = password.strip()\n",
    "\n",
    "#Must not be empty\n",
    "if password is None or password == \"\":\n",
    "    print(\"Enter a Valid Password\")\n",
    "#Must be 8 characters long\n",
    "elif not len(password)>=7:\n",
    "    print(\"Please Enter Password at least 8 characters\")\n",
    "#Must incclude at least 1 uppercase\n",
    "elif not(any(char.isupper() for char in password)):\n",
    "    print(\"Add atleast 1 uppercase letter\")\n",
    "#Must incclude at least 1 lowercase\n",
    "elif not(any(char.islower() for char in password)):\n",
    "    print(\"Add atleast 1 lowercase letter\")\n",
    "elif not(email!= password):\n",
    "    print(\"Please Enter Password Diff from Email\")\n",
    "#Must not contain any spaces\n",
    "elif not(password.count(\" \") == 0):\n",
    "    print(\"Please Do not add spaces\")\n",
    "#Must start and end with a letter or digit\n",
    "elif not(password[0].isalnum() and password[-1].isalnum()):\n",
    "    print(\"start and end with alphabet or numeric\")\n",
    "else:\n",
    "    print(\"Password is Valid\")"
   ]
  },
  {
   "cell_type": "code",
   "execution_count": null,
   "id": "a553764c-6b9a-42df-a5c3-d91c92e9bffd",
   "metadata": {},
   "outputs": [],
   "source": []
  },
  {
   "cell_type": "code",
   "execution_count": null,
   "id": "002c3d8b-e1b4-4cf9-9508-5af09a6e18d2",
   "metadata": {},
   "outputs": [],
   "source": []
  },
  {
   "cell_type": "code",
   "execution_count": null,
   "id": "1b322c57-88cd-4e60-afd5-60fa2c5831bf",
   "metadata": {},
   "outputs": [],
   "source": []
  },
  {
   "cell_type": "code",
   "execution_count": null,
   "id": "88e811ee-2338-4052-85ee-ab896d49e616",
   "metadata": {},
   "outputs": [],
   "source": []
  },
  {
   "cell_type": "code",
   "execution_count": null,
   "id": "dbb4d483-3954-4672-9ef6-c99fb0a5972f",
   "metadata": {},
   "outputs": [],
   "source": []
  },
  {
   "cell_type": "code",
   "execution_count": null,
   "id": "535a03d7-4b63-4fb1-b83c-adb070fc6141",
   "metadata": {},
   "outputs": [],
   "source": []
  },
  {
   "cell_type": "code",
   "execution_count": null,
   "id": "bae43ea2-a8cf-4d47-b747-cf3e06c05f3e",
   "metadata": {},
   "outputs": [],
   "source": []
  },
  {
   "cell_type": "code",
   "execution_count": null,
   "id": "bf36bc52-e8f4-41e7-b771-c87242c984de",
   "metadata": {},
   "outputs": [],
   "source": []
  },
  {
   "cell_type": "code",
   "execution_count": null,
   "id": "09a803c5-56d8-44b9-be3d-4bdd3278cbd1",
   "metadata": {},
   "outputs": [],
   "source": []
  },
  {
   "cell_type": "code",
   "execution_count": null,
   "id": "8877dc3f-830f-4690-a44c-004020979eac",
   "metadata": {},
   "outputs": [],
   "source": []
  }
 ],
 "metadata": {
  "kernelspec": {
   "display_name": "Python 3 (ipykernel)",
   "language": "python",
   "name": "python3"
  },
  "language_info": {
   "codemirror_mode": {
    "name": "ipython",
    "version": 3
   },
   "file_extension": ".py",
   "mimetype": "text/x-python",
   "name": "python",
   "nbconvert_exporter": "python",
   "pygments_lexer": "ipython3",
   "version": "3.13.1"
  }
 },
 "nbformat": 4,
 "nbformat_minor": 5
}
